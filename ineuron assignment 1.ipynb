{
 "cells": [
  {
   "cell_type": "markdown",
   "id": "aa2a5ff0",
   "metadata": {},
   "source": [
    "# 1. In the below elements which of them are values or an expression? eg:- values can be\n",
    "\n",
    "integer or string and expressions will be mathematical operators.\n",
    "\n",
    "*        ----expression\n",
    "\n",
    "'hello'  ------value\n",
    "\n",
    "-87.8    ------value\n",
    "\n",
    "-    --------------expression\n",
    "\n",
    "/       -------------------expression \n",
    "\n",
    "+   ----------------------expression\n",
    "\n",
    "6  ---------------------value"
   ]
  },
  {
   "cell_type": "markdown",
   "id": "a79067d3",
   "metadata": {},
   "source": [
    "2. What is the difference between string and variable?\n",
    "\n",
    "Answer:\n",
    "    A variable is name of the location in the computer primary memory which can store any type of data like numerical, \n",
    "    floating point, boolean or strings but String is one of the types of data which is basically a collection of unicode\n",
    "    characters mentioned between single or double quotes\n",
    "     \n",
    "        example\n",
    "        \n",
    "        a='1@DFND'\n",
    "      In the above example a is a variable which is storing a value of string type i.e the data stored in the \n",
    "      variable a is a string\n",
    "\n",
    "        in python the data type of variable is automatically detected by the interpreter\n",
    "    "
   ]
  },
  {
   "cell_type": "markdown",
   "id": "7a21d9fb",
   "metadata": {},
   "source": [
    "3. Describe three different data types.\n",
    "\n",
    "Answer:\n",
    "    Data types are the classification or categorization of data items.\n",
    "    It represents the kind of value that tells what operations can be performed on a particular data. \n",
    "    \n",
    "Following are the standard or built-in data type of Python:\n",
    "\n",
    "1.Numeric\n",
    "2.Sequence Type\n",
    "3.Boolean\n",
    "4.Set\n",
    "5.Dictionary\n",
    "    \n",
    "1.NUmeric:\n",
    "    \n",
    "    In Python, numeric data type represent the data which has numeric value. Numeric value can be integer, \n",
    "    floating number or even complex numbers. These values are defined as int, float and complex class in Python.\n",
    "\n",
    "a)Integers – This value is represented by int class. It contains positive or negative whole numbers\n",
    "           (without fraction or decimal). In Python there is no limit to how long an integer value can be.\n",
    "    \n",
    "b)Float – This value is represented by float class. It is a real number with floating point representation. \n",
    "        It is specified by a decimal point. Optionally, the character e or E followed by a positive or  \n",
    "        negative integer may be appended to specify scientific notation.\n",
    "        \n",
    "c)Complex Numbers – Complex number is represented by complex class. It is specified as  \n",
    "                 (real part) + (imaginary part)j. For example – 2+3j\n",
    "    \n",
    "\n",
    "    \n",
    "2.Sequence Type:\n",
    "    \n",
    "In Python, sequence is the ordered collection of similar or different data types. Sequences allows to store \n",
    "multiple values in an organized and efficient fashion. There are several sequence types in Python –\n",
    "\n",
    "String\n",
    "List\n",
    "Tuple\n",
    "a) String\n",
    "In Python, Strings are arrays of bytes representing Unicode characters. A string is a collection of one or more characters\n",
    "put in a single quote, double-quote or triple quote. In python there is no character data type, a character is a string of\n",
    "length one. It is represented by str class.\n",
    "\n",
    "b) List\n",
    "Lists are just like the arrays, declared in other languages which is a ordered collection of data. It is very flexible as\n",
    "the items in a list do not need to be of the same type.\n",
    "\n",
    "c)Tuple\n",
    "Just like list, tuple is also an ordered collection of Python objects. The only difference between tuple and list is that\n",
    "tuples are immutable i.e. tuples cannot be modified after it is created. It is represented by tuple class.\n",
    "\n",
    "3.Boolean:\n",
    "    \n",
    "Data type with one of the two built-in values, True or False. Boolean objects that are equal to True are truthy (true),\n",
    "and those equal to False are falsy (false). But non-Boolean objects can be evaluated in Boolean context as well and\n",
    "determined to be true or false. It is denoted by the class bool.\n",
    "\n",
    "Note – True and False with capital ‘T’ and ‘F’ are valid booleans otherwise python will throw an error.\n",
    "    \n"
   ]
  },
  {
   "cell_type": "markdown",
   "id": "01e1513f",
   "metadata": {},
   "source": [
    "4. What is an expression made up of? What do all expressions do?\n",
    "\n",
    "Answer:\n",
    "    \n",
    "    An expression is made up of literals (strings, numbers, lists, sets, tuples), objects, function calls, identifiers\n",
    "    combined with a variety of operators which results in a value - regardless of whether of the resulting value is an \n",
    "    object, or a number, or even a None. \n",
    "So examples of expressions are :\n",
    "\n",
    "‘Hello World’ - this is a string literal\n",
    "23.6 - this is a floating point literal\n",
    "{1,2,3,4} - a set literal\n",
    "my_func(1,2,3) - a function call (even if the function returns None)\n",
    "2 + the_number * math.factorial(7) - a combination of literals, operators, identifiers and function calls\n",
    "    \n",
    "    Expressions need to be evaluated. If you ask Python to print an expression, the interpreter evaluates\n",
    "    the expression and displays the result."
   ]
  },
  {
   "cell_type": "markdown",
   "id": "09a77500",
   "metadata": {},
   "source": [
    "5. This assignment statements, like spam = 10. What is the difference between an\n",
    "expression and a statement?\n",
    "\n",
    "Answer:\n",
    "\n",
    "Expression is made up of values, containers, and mathematical operators (operands) and \n",
    "the statement is just like a command that a python interpreter executes like print."
   ]
  },
  {
   "cell_type": "markdown",
   "id": "3901d764",
   "metadata": {},
   "source": [
    "6. After running the following code, what does the variable bacon contain?   \n",
    "bacon = 22\n",
    "bacon + 1\n",
    "\n",
    "Answer:\n",
    "\n",
    "it gives 23"
   ]
  },
  {
   "cell_type": "code",
   "execution_count": 2,
   "id": "325a501e",
   "metadata": {},
   "outputs": [
    {
     "data": {
      "text/plain": [
       "23"
      ]
     },
     "execution_count": 2,
     "metadata": {},
     "output_type": "execute_result"
    }
   ],
   "source": [
    "bacon = 22\n",
    "bacon + 1"
   ]
  },
  {
   "cell_type": "markdown",
   "id": "23afd604",
   "metadata": {},
   "source": [
    "7. What should the values of the following two terms be?\n",
    "\n",
    "'spam' + 'spamspam'\n",
    "\n",
    "'spam' * 3\n",
    "\n",
    "Answer: it will be same\n",
    "both gives the results as follows\n",
    "'spamspamspam'\n",
    "    "
   ]
  },
  {
   "cell_type": "code",
   "execution_count": 6,
   "id": "30eb9514",
   "metadata": {},
   "outputs": [
    {
     "data": {
      "text/plain": [
       "'spamspamspam'"
      ]
     },
     "execution_count": 6,
     "metadata": {},
     "output_type": "execute_result"
    }
   ],
   "source": [
    "'spam' + 'spamspam'"
   ]
  },
  {
   "cell_type": "code",
   "execution_count": 5,
   "id": "100aaecb",
   "metadata": {},
   "outputs": [
    {
     "data": {
      "text/plain": [
       "'spamspamspam'"
      ]
     },
     "execution_count": 5,
     "metadata": {},
     "output_type": "execute_result"
    }
   ],
   "source": [
    "'spam' * 3"
   ]
  },
  {
   "cell_type": "markdown",
   "id": "68df55fe",
   "metadata": {},
   "source": [
    "8. Why is eggs a valid variable name while 100 is invalid?\n",
    "\n",
    "answer:\n",
    "    \n",
    " A variable name can have a short name like x,y,z or long descriptive name but to name a variable we need to follow\n",
    "   certain rules  in python\n",
    "\n",
    "Rules for Python variables:\n",
    "\n",
    "A variable name must start with a letter or the underscore character\n",
    "A variable name cannot start with a number\n",
    "A variable name can only contain alpha-numeric characters and underscores (A-z, 0-9, and _ )\n",
    "Variable names are case-sensitive (age, Age and AGE are three different variables)\n",
    "\n",
    "so as per the rules a variable name cannot be started with number so egg is valid variable name but 100 is not,\n",
    "if we, we should begin with, a string-like alphabet name then integer. e100 or eggs100 is valid"
   ]
  },
  {
   "cell_type": "markdown",
   "id": "37a8c216",
   "metadata": {},
   "source": [
    "9. What three functions can be used to get the integer, floating-point number, or string\n",
    "version of a value?\n",
    "\n",
    "Answer:\n",
    "    \n",
    "    The int(), float(), and str() functions will evaluate to the integer, floating-point number, and \n",
    "    string versions of the value passed to them."
   ]
  },
  {
   "cell_type": "markdown",
   "id": "62185c72",
   "metadata": {},
   "source": [
    "10. Why does this expression cause an error? How can you fix it?\n",
    "\n",
    "'I have eaten' + 99 + 'burritos' \n",
    "\n",
    "Answer: \n",
    "    \n",
    "    The expression causes an error because 99 is an integer, and only strings can be concatenated to other strings \n",
    "    with the + operator. The correct way is I have eaten ' + str(99) + ' burritos.'."
   ]
  },
  {
   "cell_type": "code",
   "execution_count": 8,
   "id": "6ebaf532",
   "metadata": {},
   "outputs": [
    {
     "ename": "TypeError",
     "evalue": "can only concatenate str (not \"int\") to str",
     "output_type": "error",
     "traceback": [
      "\u001b[1;31m---------------------------------------------------------------------------\u001b[0m",
      "\u001b[1;31mTypeError\u001b[0m                                 Traceback (most recent call last)",
      "\u001b[1;32mC:\\Users\\PRATHY~1\\AppData\\Local\\Temp/ipykernel_12152/1804848508.py\u001b[0m in \u001b[0;36m<module>\u001b[1;34m\u001b[0m\n\u001b[1;32m----> 1\u001b[1;33m \u001b[1;34m'I have eaten'\u001b[0m \u001b[1;33m+\u001b[0m \u001b[1;36m99\u001b[0m \u001b[1;33m+\u001b[0m \u001b[1;34m'burritos'\u001b[0m\u001b[1;33m\u001b[0m\u001b[1;33m\u001b[0m\u001b[0m\n\u001b[0m",
      "\u001b[1;31mTypeError\u001b[0m: can only concatenate str (not \"int\") to str"
     ]
    }
   ],
   "source": [
    "'I have eaten' + 99 + 'burritos' "
   ]
  },
  {
   "cell_type": "code",
   "execution_count": 9,
   "id": "ceff8f7e",
   "metadata": {},
   "outputs": [
    {
     "data": {
      "text/plain": [
       "'I have eaten 99 burritos.'"
      ]
     },
     "execution_count": 9,
     "metadata": {},
     "output_type": "execute_result"
    }
   ],
   "source": [
    "'I have eaten ' + str(99) + ' burritos.'"
   ]
  },
  {
   "cell_type": "code",
   "execution_count": null,
   "id": "a6498931",
   "metadata": {},
   "outputs": [],
   "source": []
  }
 ],
 "metadata": {
  "kernelspec": {
   "display_name": "Python 3 (ipykernel)",
   "language": "python",
   "name": "python3"
  },
  "language_info": {
   "codemirror_mode": {
    "name": "ipython",
    "version": 3
   },
   "file_extension": ".py",
   "mimetype": "text/x-python",
   "name": "python",
   "nbconvert_exporter": "python",
   "pygments_lexer": "ipython3",
   "version": "3.9.7"
  }
 },
 "nbformat": 4,
 "nbformat_minor": 5
}
